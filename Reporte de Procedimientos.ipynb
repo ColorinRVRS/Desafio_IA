{
 "cells": [
  {
   "cell_type": "markdown",
   "metadata": {},
   "source": [
    "# Procedimieto\n",
    "\n",
    "### I.  Cargamos librerias basicas para el analisis y cargamos la data.\n",
    "\n",
    "La tabla de datos fue cargada utilizando la libreria Pandas, y posteriormente se separo la data en atributos (X) y clasificación (Y).\n",
    "Para el caso de los atributos, se consideraron del 1 al 18, dejando fuera el atributo \"Si tiene teléfono\" y \"Si es un trabajador extranjero\". Esto ultimo tomando en cuenta las concideraciones entregadas: \n",
    "\n",
    "        (a) Las tarifas telefónicas son altas en el pais de donde provienen los clientes de este banco.\n",
    "        (b) Hay una alta tasa de migración en el pais de donde provienen los clientes de este banco.\n",
    "\n",
    "De las cuales se infirío, que la posesion de una linea telefonica no era un indicador importante a la hora de clalificar a un cliente, debido que a los altos costos de esta las personas no utilizaran dicho servicio con recurrencia. Por otro lado al poseer una alta tasa de migracion, quiere decir, que existe un alto numero de extranjeros en el pais, por lo cual son un gran numero de potenciales clientes, de esta manera es indistinto si la persona que cumple con los requisitos comerciales es extranjero o no. "
   ]
  },
  {
   "cell_type": "code",
   "execution_count": 2,
   "metadata": {},
   "outputs": [
    {
     "name": "stdout",
     "output_type": "stream",
     "text": [
      "          0   1    2     3      4    5    6  7    8     9  ...    11  12  \\\n",
      "row_id                                                     ...             \n",
      "320     A12  30  A34   A40   4249  A61  A71  4  A94  A101  ...  A123  28   \n",
      "211     A14  36  A32   A43   3835  A65  A75  2  A92  A101  ...  A121  45   \n",
      "23      A12  12  A34   A41   1804  A62  A72  3  A93  A101  ...  A122  44   \n",
      "439     A13  12  A31   A49    609  A61  A72  4  A92  A101  ...  A121  26   \n",
      "237     A12  21  A32   A49   2767  A62  A75  4  A91  A101  ...  A123  61   \n",
      "549     A14  48  A34   A41   8858  A65  A74  2  A93  A101  ...  A124  35   \n",
      "287     A12  48  A33  A410   7582  A62  A71  2  A93  A101  ...  A124  31   \n",
      "714     A12  60  A32   A40  14027  A61  A74  4  A93  A101  ...  A124  27   \n",
      "799     A12   9  A32   A40   1549  A65  A72  4  A93  A101  ...  A121  35   \n",
      "888     A14  36  A34   A40   6614  A61  A75  4  A93  A101  ...  A123  34   \n",
      "795     A14   9  A32   A42   2301  A62  A72  2  A92  A101  ...  A122  22   \n",
      "982     A13  21  A32   A40   2923  A62  A73  1  A92  A101  ...  A123  28   \n",
      "887     A12  48  A32   A49  15672  A61  A73  2  A93  A101  ...  A123  23   \n",
      "548     A11  12  A31   A43    626  A61  A73  4  A92  A101  ...  A121  24   \n",
      "10      A12  12  A32   A40   1295  A61  A72  3  A92  A101  ...  A123  25   \n",
      "824     A14  18  A34   A42   3780  A61  A72  3  A91  A101  ...  A123  35   \n",
      "362     A13  12  A33   A40   2247  A61  A73  2  A92  A101  ...  A123  36   \n",
      "882     A12  30  A34   A40   2181  A65  A75  4  A93  A101  ...  A121  36   \n",
      "941     A14  10  A32   A40   1546  A61  A73  3  A93  A101  ...  A121  31   \n",
      "47      A11   6  A32   A41   1352  A63  A71  1  A92  A101  ...  A122  23   \n",
      "806     A12   6  A32   A43    590  A61  A72  3  A94  A101  ...  A121  26   \n",
      "24      A14  10  A34   A42   2069  A65  A73  2  A94  A101  ...  A123  26   \n",
      "371     A14  18  A34   A43   6070  A61  A75  3  A93  A101  ...  A123  33   \n",
      "775     A11  24  A32   A40   1371  A65  A73  4  A92  A101  ...  A121  25   \n",
      "240     A11  24  A32   A40    915  A65  A75  4  A92  A101  ...  A123  29   \n",
      "83      A11  24  A32  A410   1755  A61  A75  4  A92  A103  ...  A121  58   \n",
      "900     A11  16  A34   A40   2625  A61  A75  2  A93  A103  ...  A122  43   \n",
      "258     A14  15  A32   A41   3812  A62  A72  1  A92  A101  ...  A123  23   \n",
      "504     A11  24  A32   A40   1207  A61  A72  4  A92  A101  ...  A122  24   \n",
      "207     A12  12  A34   A44   1424  A61  A74  4  A93  A101  ...  A122  26   \n",
      "...     ...  ..  ...   ...    ...  ...  ... ..  ...   ...  ...   ...  ..   \n",
      "501     A11  36  A32   A41   5493  A61  A75  2  A93  A101  ...  A124  42   \n",
      "763     A14  21  A34   A40  12680  A65  A75  4  A93  A101  ...  A124  30   \n",
      "944     A11  15  A32   A42   1845  A61  A72  4  A92  A103  ...  A122  46   \n",
      "282     A13  18  A31   A43   1445  A65  A74  4  A93  A101  ...  A123  49   \n",
      "52      A14  12  A32   A43   1262  A61  A73  3  A93  A101  ...  A123  25   \n",
      "484     A14  12  A34   A40   1163  A63  A73  4  A93  A101  ...  A121  44   \n",
      "558     A11  24  A31   A42   3552  A61  A74  3  A93  A101  ...  A123  27   \n",
      "127     A12  12  A32   A45    639  A61  A73  4  A93  A101  ...  A123  30   \n",
      "32      A12  18  A32   A40   5866  A62  A73  2  A93  A101  ...  A123  30   \n",
      "25      A11   6  A32   A42   1374  A61  A73  1  A93  A101  ...  A121  36   \n",
      "34      A13  12  A32   A42   1474  A61  A72  4  A92  A101  ...  A122  33   \n",
      "776     A14  36  A34   A40   3535  A61  A74  4  A93  A101  ...  A123  37   \n",
      "748     A14  21  A32   A41   5248  A65  A73  1  A93  A101  ...  A123  26   \n",
      "622     A14  48  A32   A49   3914  A65  A73  4  A91  A101  ...  A121  38   \n",
      "755     A11  24  A32   A40   1285  A65  A74  4  A92  A101  ...  A124  32   \n",
      "953     A14  36  A32   A42  10974  A61  A71  4  A92  A101  ...  A123  26   \n",
      "145     A12  48  A31   A49   3566  A62  A74  4  A93  A101  ...  A123  30   \n",
      "196     A14   6  A34   A43   1382  A61  A73  1  A92  A101  ...  A123  28   \n",
      "929     A11  12  A33   A40   1344  A61  A73  4  A93  A101  ...  A121  43   \n",
      "474     A12  18  A34   A43   1245  A61  A73  4  A94  A101  ...  A123  33   \n",
      "343     A12  18  A32   A49   4439  A61  A75  1  A93  A102  ...  A121  33   \n",
      "227     A11  12  A32   A42   7865  A61  A75  4  A93  A101  ...  A124  53   \n",
      "844     A14  18  A32   A42   3422  A61  A75  4  A93  A101  ...  A122  47   \n",
      "797     A14  12  A34   A42   1258  A61  A72  2  A92  A101  ...  A122  22   \n",
      "952     A12  24  A32   A41   4113  A63  A72  3  A92  A101  ...  A123  28   \n",
      "108     A11  24  A32   A42   7721  A65  A72  1  A92  A101  ...  A122  30   \n",
      "260     A11  12  A32   A42   1657  A61  A73  2  A93  A101  ...  A121  27   \n",
      "243     A14  12  A34   A49   1185  A61  A73  3  A92  A101  ...  A121  27   \n",
      "393     A11   6  A34   A43   1957  A61  A74  1  A92  A101  ...  A123  31   \n",
      "657     A14  48  A32   A43  10222  A65  A74  4  A93  A101  ...  A123  37   \n",
      "\n",
      "          13    14 15    16 17    18    19 20  \n",
      "row_id                                         \n",
      "320     A143  A152  2  A174  1  A191  A201  2  \n",
      "211     A143  A152  1  A172  1  A192  A201  1  \n",
      "23      A143  A152  1  A173  1  A191  A201  1  \n",
      "439     A143  A152  1  A171  1  A191  A201  2  \n",
      "237     A141  A151  2  A172  1  A191  A201  2  \n",
      "549     A143  A153  2  A173  1  A192  A201  1  \n",
      "287     A143  A153  1  A174  1  A192  A201  1  \n",
      "714     A143  A152  1  A174  1  A192  A201  2  \n",
      "799     A143  A152  1  A171  1  A191  A201  1  \n",
      "888     A143  A152  2  A174  1  A192  A201  1  \n",
      "795     A143  A151  1  A173  1  A191  A201  1  \n",
      "982     A141  A152  1  A174  1  A192  A201  1  \n",
      "887     A143  A152  1  A173  1  A192  A201  2  \n",
      "548     A141  A152  1  A172  1  A191  A201  2  \n",
      "10      A143  A151  1  A173  1  A191  A201  2  \n",
      "824     A143  A152  2  A174  1  A192  A201  1  \n",
      "362     A142  A152  2  A173  1  A192  A201  1  \n",
      "882     A143  A152  2  A173  1  A191  A201  1  \n",
      "941     A143  A152  1  A172  2  A191  A202  1  \n",
      "47      A143  A151  1  A171  1  A192  A201  1  \n",
      "806     A143  A152  1  A172  1  A191  A202  1  \n",
      "24      A143  A152  2  A173  1  A191  A202  1  \n",
      "371     A143  A152  2  A173  1  A192  A201  1  \n",
      "775     A143  A151  1  A173  1  A191  A201  2  \n",
      "240     A141  A152  1  A173  1  A191  A201  2  \n",
      "83      A143  A152  1  A172  1  A192  A201  1  \n",
      "900     A141  A151  1  A173  1  A192  A201  2  \n",
      "258     A143  A152  1  A173  1  A192  A201  1  \n",
      "504     A143  A151  1  A173  1  A191  A201  2  \n",
      "207     A143  A152  1  A173  1  A191  A201  1  \n",
      "...      ...   ... ..   ... ..   ...   ... ..  \n",
      "501     A143  A153  1  A173  2  A191  A201  1  \n",
      "763     A143  A153  1  A174  1  A192  A201  2  \n",
      "944     A143  A151  1  A173  1  A191  A201  1  \n",
      "282     A141  A152  1  A172  1  A191  A201  1  \n",
      "52      A143  A152  1  A173  1  A191  A201  1  \n",
      "484     A143  A152  1  A173  1  A192  A201  1  \n",
      "558     A141  A152  1  A173  1  A191  A201  2  \n",
      "127     A143  A152  1  A173  1  A191  A201  2  \n",
      "32      A143  A152  2  A173  1  A192  A201  1  \n",
      "25      A141  A152  1  A172  1  A192  A201  1  \n",
      "34      A141  A152  1  A174  1  A192  A201  1  \n",
      "776     A143  A152  2  A173  1  A192  A201  1  \n",
      "748     A143  A152  1  A173  1  A191  A201  1  \n",
      "622     A141  A152  1  A173  1  A191  A201  2  \n",
      "755     A143  A151  1  A173  1  A191  A201  2  \n",
      "953     A143  A152  2  A174  1  A192  A201  2  \n",
      "145     A143  A152  1  A173  1  A191  A201  1  \n",
      "196     A143  A152  2  A173  1  A192  A201  1  \n",
      "929     A143  A152  2  A172  2  A191  A201  1  \n",
      "474     A143  A152  1  A173  1  A191  A201  2  \n",
      "343     A141  A152  1  A174  1  A192  A201  1  \n",
      "227     A143  A153  1  A174  1  A192  A201  2  \n",
      "844     A141  A152  3  A173  2  A192  A201  1  \n",
      "797     A143  A151  2  A172  1  A191  A201  1  \n",
      "952     A143  A151  1  A173  1  A191  A201  2  \n",
      "108     A143  A152  1  A173  1  A192  A202  1  \n",
      "260     A143  A152  1  A173  1  A191  A201  1  \n",
      "243     A143  A152  2  A173  1  A191  A201  1  \n",
      "393     A143  A152  1  A173  1  A191  A201  1  \n",
      "657     A142  A152  1  A173  1  A192  A201  1  \n",
      "\n",
      "[900 rows x 21 columns]\n"
     ]
    }
   ],
   "source": [
    "import pandas as pd\n",
    "import numpy as np\n",
    "import sklearn\n",
    "import matplotlib.pyplot as plt\n",
    "import seaborn as sns; sns.set()\n",
    "\n",
    "data_table = pd.read_csv('data_desafio_seguros',index_col='row_id')\n",
    "X = data_table.iloc[:,:18]\n",
    "Y = data_table.iloc[:,20]\n",
    "print(data_table)"
   ]
  },
  {
   "cell_type": "markdown",
   "metadata": {},
   "source": [
    "### II. Realizamos un label encoder.\n",
    "\n",
    "Las variables que se encontaban codificadas con variables del tipo \"A11, A12, ..... , A192, A201, A202\", fueron re-codificadas en variables de 0 a N-1, donde N corresponde al numero de clases dentro de cada atributo.\n",
    "\n",
    "Posteriormente se verificaron las dimensiones de nuestros datos y se observo que tan balanceadas estaban las clases del problema."
   ]
  },
  {
   "cell_type": "code",
   "execution_count": 3,
   "metadata": {},
   "outputs": [
    {
     "name": "stdout",
     "output_type": "stream",
     "text": [
      "(900, 18)\n",
      "(900,)\n"
     ]
    },
    {
     "data": {
      "image/png": "[encoded data removed]",
      "text/plain": [
       "<Figure size 432x288 with 1 Axes>"
      ]
     },
     "metadata": {
      "needs_background": "light"
     },
     "output_type": "display_data"
    }
   ],
   "source": [
    "from sklearn.preprocessing import LabelEncoder\n",
    "labelencoder = LabelEncoder()\n",
    "X['0'] = labelencoder.fit_transform(X['0'])\n",
    "X['2'] = labelencoder.fit_transform(X['2'])\n",
    "X['3'] = labelencoder.fit_transform(X['3'])\n",
    "X['5'] = labelencoder.fit_transform(X['5'])\n",
    "X['6'] = labelencoder.fit_transform(X['6'])\n",
    "X['8'] = labelencoder.fit_transform(X['8'])\n",
    "X['9'] = labelencoder.fit_transform(X['9'])\n",
    "X['11'] = labelencoder.fit_transform(X['11'])\n",
    "X['13'] = labelencoder.fit_transform(X['13'])\n",
    "X['14'] = labelencoder.fit_transform(X['14'])\n",
    "X['16'] = labelencoder.fit_transform(X['16'])\n",
    "Y = labelencoder.fit_transform(Y)\n",
    "print (X.shape)\n",
    "print (Y.shape)\n",
    "sns.countplot(Y);plt.show()\n"
   ]
  },
  {
   "cell_type": "markdown",
   "metadata": {},
   "source": [
    "### III. Se separo la data para entrenar y probar el modelo.\n",
    "\n",
    "Se separo la data considerando un 10% para hacer el posterior testeo."
   ]
  },
  {
   "cell_type": "code",
   "execution_count": 28,
   "metadata": {},
   "outputs": [
    {
     "name": "stdout",
     "output_type": "stream",
     "text": [
      "X train shape:  (810, 18)\n",
      "Y train shape:  (810,)\n",
      "X Test shape:  (90, 18)\n",
      "Y Test shape:  (90,)\n"
     ]
    }
   ],
   "source": [
    "from sklearn.model_selection import train_test_split\n",
    "\n",
    "x_train, x_test, y_train, y_test = train_test_split(X, Y, test_size = 0.10, random_state = 0)\n",
    "print('X train shape: ',x_train.shape)\n",
    "print('Y train shape: ',y_train.shape)\n",
    "print('X Test shape: ',x_test.shape)\n",
    "print('Y Test shape: ',y_test.shape)"
   ]
  },
  {
   "cell_type": "markdown",
   "metadata": {},
   "source": [
    "### IV. Se escogio el modelo y se buscaron los parametros optimos.\n",
    "\n",
    "Primero se escogio el modelo a utilizar, el cual fue un modelo del tipo Random Forest, el cual se ajusta bastante bien a problemas de clasificación y entrega una probabilidad en su output. Pero a pesar de ser un modelo rapido y con buena respuesta, tiende a caer facilmente en overfitting perdiendo la generalidad de este.\n",
    "\n",
    "Para no caer en problemas de overfitting se realizo un proceso de Grid Search con cross validation, utilizando una grid con valores variados, buscando la combinacion con mejores resultados.\n"
   ]
  },
  {
   "cell_type": "code",
   "execution_count": 524,
   "metadata": {},
   "outputs": [
    {
     "name": "stdout",
     "output_type": "stream",
     "text": [
      "Fitting 3 folds for each of 3960 candidates, totalling 11880 fits\n"
     ]
    },
    {
     "name": "stderr",
     "output_type": "stream",
     "text": [
      "[Parallel(n_jobs=-1)]: Using backend LokyBackend with 8 concurrent workers.\n",
      "[Parallel(n_jobs=-1)]: Done  25 tasks      | elapsed:    8.1s\n",
      "[Parallel(n_jobs=-1)]: Done 146 tasks      | elapsed:   46.2s\n",
      "[Parallel(n_jobs=-1)]: Done 349 tasks      | elapsed:  2.3min\n",
      "[Parallel(n_jobs=-1)]: Done 632 tasks      | elapsed:  3.8min\n",
      "[Parallel(n_jobs=-1)]: Done 997 tasks      | elapsed:  6.0min\n",
      "[Parallel(n_jobs=-1)]: Done 1442 tasks      | elapsed:  8.8min\n",
      "[Parallel(n_jobs=-1)]: Done 1969 tasks      | elapsed: 12.3min\n",
      "[Parallel(n_jobs=-1)]: Done 2576 tasks      | elapsed: 16.4min\n",
      "[Parallel(n_jobs=-1)]: Done 3265 tasks      | elapsed: 21.0min\n",
      "[Parallel(n_jobs=-1)]: Done 4034 tasks      | elapsed: 26.0min\n",
      "[Parallel(n_jobs=-1)]: Done 4885 tasks      | elapsed: 31.6min\n",
      "[Parallel(n_jobs=-1)]: Done 5816 tasks      | elapsed: 37.9min\n",
      "[Parallel(n_jobs=-1)]: Done 6829 tasks      | elapsed: 45.1min\n",
      "[Parallel(n_jobs=-1)]: Done 7922 tasks      | elapsed: 53.0min\n",
      "[Parallel(n_jobs=-1)]: Done 9097 tasks      | elapsed: 61.5min\n",
      "[Parallel(n_jobs=-1)]: Done 10352 tasks      | elapsed: 70.7min\n",
      "[Parallel(n_jobs=-1)]: Done 11689 tasks      | elapsed: 80.4min\n",
      "[Parallel(n_jobs=-1)]: Done 11880 out of 11880 | elapsed: 81.8min finished\n"
     ]
    },
    {
     "data": {
      "text/plain": [
       "{'bootstrap': False,\n",
       " 'max_depth': None,\n",
       " 'max_features': 'sqrt',\n",
       " 'min_samples_leaf': 4,\n",
       " 'min_samples_split': 5,\n",
       " 'n_estimators': 200}"
      ]
     },
     "execution_count": 524,
     "metadata": {},
     "output_type": "execute_result"
    }
   ],
   "source": [
    "from sklearn.model_selection import GridSearchCV\n",
    "from sklearn.ensemble import RandomForestClassifier\n",
    "\n",
    "search_grid = {'bootstrap': [True, False],\n",
    "               'max_depth': [10, 20, 30, 40, 50, 60, 70, 80, 90, 100, None],\n",
    "               'max_features': ['auto', 'sqrt'],\n",
    "               'min_samples_leaf': [1, 2, 4],\n",
    "               'min_samples_split': [2, 5, 10],\n",
    "               'n_estimators': [200, 400, 600, 800, 1000, 1200, 1400, 1600, 1800, 2000]\n",
    "}\n",
    "model = RandomForestClassifier()\n",
    "cv_search = GridSearchCV(estimator = model, param_grid = search_grid,\n",
    "                         cv = 3, verbose=2, n_jobs = -1)\n",
    "cv_search.fit(x_train,y_train)\n",
    "cv_search.best_params_"
   ]
  },
  {
   "cell_type": "markdown",
   "metadata": {},
   "source": [
    "### V. Entrenamiento y testeo de modelo.\n",
    "\n",
    "Luego de la larga espera del Grid Search, entrenamos el modelo con la mejor combinacion de parametros obtenida (best_params_).\n",
    "Y se realizo una matriz de confusión para visualizar los resultados, junto a un print del reporte de la clasificación."
   ]
  },
  {
   "cell_type": "code",
   "execution_count": 29,
   "metadata": {},
   "outputs": [
    {
     "name": "stdout",
     "output_type": "stream",
     "text": [
      "Model Score:  0.8\n"
     ]
    },
    {
     "data": {
      "image/png": "[encoded data removed]",
      "text/plain": [
       "<Figure size 504x504 with 2 Axes>"
      ]
     },
     "metadata": {
      "needs_background": "light"
     },
     "output_type": "display_data"
    },
    {
     "name": "stdout",
     "output_type": "stream",
     "text": [
      "              precision    recall  f1-score   support\n",
      "\n",
      "           0       0.79      0.95      0.86        59\n",
      "           1       0.84      0.52      0.64        31\n",
      "\n",
      "   micro avg       0.80      0.80      0.80        90\n",
      "   macro avg       0.82      0.73      0.75        90\n",
      "weighted avg       0.81      0.80      0.79        90\n",
      "\n"
     ]
    }
   ],
   "source": [
    "from sklearn.ensemble import RandomForestClassifier\n",
    "from sklearn.metrics import confusion_matrix, classification_report\n",
    "\n",
    "def resultados(y_test, pred_y):\n",
    "    conf_matrix = confusion_matrix(y_test, pred_y)\n",
    "    plt.figure(figsize=(7, 7))\n",
    "    sns.heatmap(conf_matrix, xticklabels=['Bueno','Malo'], yticklabels=['Bueno','Malo'], annot=True, fmt=\"d\");\n",
    "    plt.title(\"Matrix\")\n",
    "    plt.ylabel('True')\n",
    "    plt.xlabel('Predicted')\n",
    "    plt.show()\n",
    "    print (classification_report(y_test, pred_y))\n",
    "    \n",
    "model = RandomForestClassifier(max_depth=None , max_features= 'sqrt', n_estimators= 200,\n",
    "                               min_samples_leaf = 4 ,\n",
    "                               min_samples_split = 5)\n",
    "model.fit(x_train,y_train)\n",
    "print('Model Score: ',model.score(x_test,y_test))\n",
    "prd = model.predict(x_test)\n",
    "resultados(y_test,prd)"
   ]
  },
  {
   "cell_type": "markdown",
   "metadata": {},
   "source": [
    "### VI. Ajuste del peso de las clases.\n",
    "\n",
    "El Modelo respondio bastante bien para el set de datos de prueba, obteniendo un score de 0.8, pero observando la matriz de confusion vemos un gran numero de casos mal clasificados, clasificando a 15 clientes \"Malos\" como \"Buenos\". Pero debemos recordar que dentro de las consideraciones del problema se tiene que, clasificar un cliente malo como uno bueno es 5 veces peor que clasificar uno bueno que malo, por lo tanto, se ajustaran los pesos de cada clase dentro del modelo en una razon 1:5. Esto buscando aumentar el racall de la clase 1 (\"Malo\"), es decir, reducir el numero de falsos positivos o falsos \"Buenos\"."
   ]
  },
  {
   "cell_type": "code",
   "execution_count": 30,
   "metadata": {},
   "outputs": [
    {
     "name": "stdout",
     "output_type": "stream",
     "text": [
      "Model Score:  0.8111111111111111\n"
     ]
    },
    {
     "data": {
      "image/png": "[encoded data removed]",
      "text/plain": [
       "<Figure size 504x504 with 2 Axes>"
      ]
     },
     "metadata": {
      "needs_background": "light"
     },
     "output_type": "display_data"
    },
    {
     "name": "stdout",
     "output_type": "stream",
     "text": [
      "              precision    recall  f1-score   support\n",
      "\n",
      "           0       0.94      0.76      0.84        59\n",
      "           1       0.67      0.90      0.77        31\n",
      "\n",
      "   micro avg       0.81      0.81      0.81        90\n",
      "   macro avg       0.80      0.83      0.80        90\n",
      "weighted avg       0.84      0.81      0.82        90\n",
      "\n"
     ]
    }
   ],
   "source": [
    "model = RandomForestClassifier(max_depth=None , max_features= 'sqrt', n_estimators= 200,\n",
    "                               class_weight={0:1,1:5},min_samples_leaf = 4 ,\n",
    "                               min_samples_split = 5)\n",
    "model.fit(x_train,y_train)\n",
    "\n",
    "print('Model Score: ',model.score(x_test,y_test))\n",
    "prd = model.predict(x_test)\n",
    "resultados(y_test,prd)"
   ]
  },
  {
   "cell_type": "markdown",
   "metadata": {},
   "source": [
    "### VII. Determinacion del \"score de riesgo\".\n",
    "\n",
    "El problema lo que pretende es encontrar el \"score de riesgo\" el cual se aplicará a los clientes segun sea su condicion, donde los mal evaluados tendran un score cercano a 1 y los bien evaluados a 0. De este modo, como el modelo genera una clasificacion entregando la probabilidad de que estos sean buenos o malos, el score de riesgo estara determinado por la probabilidad de que un cliente sea \"Malo\", la cual corresponde a la clase '1'."
   ]
  },
  {
   "cell_type": "code",
   "execution_count": 40,
   "metadata": {},
   "outputs": [
    {
     "name": "stdout",
     "output_type": "stream",
     "text": [
      "Score de Riesgo cliente 1: 0.76 **\n",
      "Score de Riesgo cliente 2: 0.14\n",
      "Score de Riesgo cliente 3: 0.39\n",
      "Score de Riesgo cliente 4: 0.59 **\n",
      "Score de Riesgo cliente 5: 0.41\n",
      "Score de Riesgo cliente 6: 0.78\n",
      "Score de Riesgo cliente 7: 0.44\n",
      "Score de Riesgo cliente 8: 0.83\n",
      "Score de Riesgo cliente 9: 0.36\n",
      "Score de Riesgo cliente 10: 0.57\n",
      "Score de Riesgo cliente 11: 0.59\n",
      "Score de Riesgo cliente 12: 0.47\n",
      "Score de Riesgo cliente 13: 0.48\n",
      "Score de Riesgo cliente 14: 0.5\n",
      "Score de Riesgo cliente 15: 0.43 **\n",
      "Score de Riesgo cliente 16: 0.58 **\n",
      "Score de Riesgo cliente 17: 0.86\n",
      "Score de Riesgo cliente 18: 0.49\n",
      "Score de Riesgo cliente 19: 0.62 **\n",
      "Score de Riesgo cliente 20: 0.21\n",
      "Score de Riesgo cliente 21: 0.75\n",
      "Score de Riesgo cliente 22: 0.32 **\n",
      "Score de Riesgo cliente 23: 0.67 **\n",
      "Score de Riesgo cliente 24: 0.83\n",
      "Score de Riesgo cliente 25: 0.57\n",
      "Score de Riesgo cliente 26: 0.74\n",
      "Score de Riesgo cliente 27: 0.8\n",
      "Score de Riesgo cliente 28: 0.38\n",
      "Score de Riesgo cliente 29: 0.57 **\n",
      "Score de Riesgo cliente 30: 0.07\n",
      "Score de Riesgo cliente 31: 0.68 **\n",
      "Score de Riesgo cliente 32: 0.35\n",
      "Score de Riesgo cliente 33: 0.11\n",
      "Score de Riesgo cliente 34: 0.07\n",
      "Score de Riesgo cliente 35: 0.43\n",
      "Score de Riesgo cliente 36: 0.41\n",
      "Score de Riesgo cliente 37: 0.73 **\n",
      "Score de Riesgo cliente 38: 0.21\n",
      "Score de Riesgo cliente 39: 0.78\n",
      "Score de Riesgo cliente 40: 0.29\n",
      "Score de Riesgo cliente 41: 0.16\n",
      "Score de Riesgo cliente 42: 0.62\n",
      "Score de Riesgo cliente 43: 0.75\n",
      "Score de Riesgo cliente 44: 0.13\n",
      "Score de Riesgo cliente 45: 0.8\n",
      "Score de Riesgo cliente 46: 0.52\n",
      "Score de Riesgo cliente 47: 0.52\n",
      "Score de Riesgo cliente 48: 0.37\n",
      "Score de Riesgo cliente 49: 0.09\n",
      "Score de Riesgo cliente 50: 0.62 **\n",
      "Score de Riesgo cliente 51: 0.43\n",
      "Score de Riesgo cliente 52: 0.2\n",
      "Score de Riesgo cliente 53: 0.14\n",
      "Score de Riesgo cliente 54: 0.59\n",
      "Score de Riesgo cliente 55: 0.65 **\n",
      "Score de Riesgo cliente 56: 0.49\n",
      "Score de Riesgo cliente 57: 0.74\n",
      "Score de Riesgo cliente 58: 0.35\n",
      "Score de Riesgo cliente 59: 0.54 **\n",
      "Score de Riesgo cliente 60: 0.19\n",
      "Score de Riesgo cliente 61: 0.55 **\n",
      "Score de Riesgo cliente 62: 0.3\n",
      "Score de Riesgo cliente 63: 0.36\n",
      "Score de Riesgo cliente 64: 0.65\n",
      "Score de Riesgo cliente 65: 0.09\n",
      "Score de Riesgo cliente 66: 0.26 **\n",
      "Score de Riesgo cliente 67: 0.08\n",
      "Score de Riesgo cliente 68: 0.69\n",
      "Score de Riesgo cliente 69: 0.73\n",
      "Score de Riesgo cliente 70: 0.78\n",
      "Score de Riesgo cliente 71: 0.33\n",
      "Score de Riesgo cliente 72: 0.65 **\n",
      "Score de Riesgo cliente 73: 0.36\n",
      "Score de Riesgo cliente 74: 0.46\n",
      "Score de Riesgo cliente 75: 0.72 **\n",
      "Score de Riesgo cliente 76: 0.6\n",
      "Score de Riesgo cliente 77: 0.27\n",
      "Score de Riesgo cliente 78: 0.77\n",
      "Score de Riesgo cliente 79: 0.29\n",
      "Score de Riesgo cliente 80: 0.83\n",
      "Score de Riesgo cliente 81: 0.2\n",
      "Score de Riesgo cliente 82: 0.5\n",
      "Score de Riesgo cliente 83: 0.61\n",
      "Score de Riesgo cliente 84: 0.45\n",
      "Score de Riesgo cliente 85: 0.45\n",
      "Score de Riesgo cliente 86: 0.45\n",
      "Score de Riesgo cliente 87: 0.29\n",
      "Score de Riesgo cliente 88: 0.2\n",
      "Score de Riesgo cliente 89: 0.34\n",
      "Score de Riesgo cliente 90: 0.79\n"
     ]
    },
    {
     "data": {
      "image/png": "[encoded data removed]",
      "text/plain": [
       "<Figure size 504x504 with 1 Axes>"
      ]
     },
     "metadata": {
      "needs_background": "light"
     },
     "output_type": "display_data"
    }
   ],
   "source": [
    "prd_p = model.predict_proba(x_test)\n",
    "fails = []\n",
    "for i in range(len(prd_p)):\n",
    "    if prd[i] != y_test[i]:\n",
    "        fails.append(round(prd_p[i,1],2))\n",
    "        print ('Score de Riesgo cliente %s: %s **' %(i+1,round(prd_p[i,1],2)))\n",
    "    else:\n",
    "        print ('Score de Riesgo cliente %s: %s' %(i+1,round(prd_p[i,1],2)))\n",
    "\n",
    "plt.figure(figsize=(7, 7))\n",
    "plt.hist(fails,bins=6)\n",
    "plt.ylabel('N°')\n",
    "plt.xlabel('Score de Riesgo')\n",
    "plt.show()"
   ]
  },
  {
   "cell_type": "markdown",
   "metadata": {},
   "source": [
    "### VIII. Analisis de Resultados.\n",
    "\n",
    "Si bien se logro un modelo final con un score de ~0.81, es importante analizar los casos mal clasificados, es por esto que es importante destacar que se logro minizar bastante el error de \"Malos\" clasificados como \"Buenos\", gracias al ajuste de los pesos, lo cual produjo a su vez un aumento en los \"Buenos\" clasificados como \"Malos\", pero dichos errores no son tan seberos ya que se les asigna como score de riesgo valores relativamente neutros. Por otro lado es importante observar que los los clientes malos calificados con un score bajo el 0.5, son solo tres casos, de los cuales dos son mas preocupantes debido que se les asigno un score relativamente bajo."
   ]
  },
  {
   "cell_type": "markdown",
   "metadata": {},
   "source": [
    "### IX. Conclusión.\n",
    "\n",
    "Respecto al objetivo de determinar el \"score de riesgo\" de los clientes del banco, podemos decir que se logro entregar de buena forma el valor, generando un modelo de clasificacion de clientes. Por otro lado, la eleccion del modelo fue bastante buena, en funcion de los resultados, el Random Forest Classifier se ajusto bastante bien y mantuvo la generalidad, esto ultimo gracias al proceso de Grid Search que permitio entregar la parametrización optima. Finalmente se realizo un ajuste a los pesos de las clases, con el fin de atender a la consideracion de lo importante que era no calificar bien a clientes malos, logrando asi un aumento en el racall de la clase \"Malo\" de 0.52 a 0.9, incluso mejorando el score del modelo, pero si disminuyendo en gran medida el recall de la clase \"Bueno\", lo cual no es un mayor problema.\n"
   ]
  },
  {
   "cell_type": "code",
   "execution_count": null,
   "metadata": {},
   "outputs": [],
   "source": []
  }
 ],
 "metadata": {
  "kernelspec": {
   "display_name": "Python 3",
   "language": "python",
   "name": "python3"
  },
  "language_info": {
   "codemirror_mode": {
    "name": "ipython",
    "version": 3
   },
   "file_extension": ".py",
   "mimetype": "text/x-python",
   "name": "python",
   "nbconvert_exporter": "python",
   "pygments_lexer": "ipython3",
   "version": "3.7.3"
  }
 },
 "nbformat": 4,
 "nbformat_minor": 2
}
